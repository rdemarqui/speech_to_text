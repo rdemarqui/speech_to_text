{
  "nbformat": 4,
  "nbformat_minor": 0,
  "metadata": {
    "colab": {
      "private_outputs": true,
      "provenance": [],
      "toc_visible": true,
      "include_colab_link": true
    },
    "kernelspec": {
      "name": "python3",
      "display_name": "Python 3"
    },
    "language_info": {
      "name": "python"
    },
    "accelerator": "GPU",
    "gpuClass": "standard"
  },
  "cells": [
    {
      "cell_type": "markdown",
      "metadata": {
        "id": "view-in-github",
        "colab_type": "text"
      },
      "source": [
        "<a href=\"https://colab.research.google.com/github/rdemarqui/speech_to_text/blob/main/Transcricao_de_atendimento.ipynb\" target=\"_parent\"><img src=\"https://colab.research.google.com/assets/colab-badge.svg\" alt=\"Open In Colab\"/></a>"
      ]
    },
    {
      "cell_type": "markdown",
      "source": [
        "# Transcrição de Atendimento"
      ],
      "metadata": {
        "id": "dU8E67tY8wpO"
      }
    },
    {
      "cell_type": "markdown",
      "source": [
        "**Problema de Negócio:** Transcrever o audio de antendimento ao cliente.\n",
        "\n",
        "https://www.youtube.com/watch?v=Xk9BSAAK0q8"
      ],
      "metadata": {
        "id": "9ugJc27iAqT1"
      }
    },
    {
      "cell_type": "code",
      "source": [
        "from IPython.display import YouTubeVideo\n",
        "\n",
        "atendimento = YouTubeVideo('Xk9BSAAK0q8')\n",
        "display(atendimento)"
      ],
      "metadata": {
        "id": "qTYQzcPDAOIW"
      },
      "execution_count": null,
      "outputs": []
    },
    {
      "cell_type": "markdown",
      "source": [
        "## Obtendo o áudio"
      ],
      "metadata": {
        "id": "u5D-SswL9HIg"
      }
    },
    {
      "cell_type": "code",
      "source": [
        "pip install pytube"
      ],
      "metadata": {
        "id": "nX3YCuWw6BW2"
      },
      "execution_count": null,
      "outputs": []
    },
    {
      "cell_type": "code",
      "source": [
        "from pytube import YouTube\n",
        "\n",
        "def Download(link):\n",
        "    youtubeLink = YouTube(link)\n",
        "    youtubeObject = youtubeLink.streams.filter(only_audio=True).first()\n",
        "    try:\n",
        "        youtubeObject.download()\n",
        "    except:\n",
        "        print(\"An error has occurred\")\n",
        "    print(\"Download is completed successfully\")\n",
        "\n",
        "link = input(\"Enter the YouTube video URL: \")\n",
        "Download(link)"
      ],
      "metadata": {
        "id": "xXyhdwcx6m_9"
      },
      "execution_count": null,
      "outputs": []
    },
    {
      "cell_type": "markdown",
      "source": [
        "## Transcrevendo o atendimento"
      ],
      "metadata": {
        "id": "5veoiiv0BIVV"
      }
    },
    {
      "cell_type": "markdown",
      "source": [
        "Para isso, utilizaremos o pacote Whisper, disponibilizado pela OpenAI.\n",
        "\n",
        "Documentação: https://github.com/openai/whisper"
      ],
      "metadata": {
        "id": "eXmbjgSfBOtt"
      }
    },
    {
      "cell_type": "code",
      "source": [
        "!pip install git+https://github.com/openai/whisper.git "
      ],
      "metadata": {
        "id": "lhff4ka25dt4"
      },
      "execution_count": null,
      "outputs": []
    },
    {
      "cell_type": "code",
      "source": [
        "import whisper"
      ],
      "metadata": {
        "id": "QQFqBNcx5mE-"
      },
      "execution_count": null,
      "outputs": []
    },
    {
      "cell_type": "markdown",
      "source": [
        "![image.png](data:image/png;base64,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)"
      ],
      "metadata": {
        "id": "IQB9p6ZTD1hV"
      }
    },
    {
      "cell_type": "code",
      "source": [
        "# Carregando o modelo treinado\n",
        "model = whisper.load_model(\"large\")"
      ],
      "metadata": {
        "id": "pscxlZnj58pN"
      },
      "execution_count": null,
      "outputs": []
    },
    {
      "cell_type": "code",
      "source": [
        "# Executando a transcrição\n",
        "result = model.transcribe(\"ATENDIMENTO.mp4\")"
      ],
      "metadata": {
        "id": "GGOaxF456sC1"
      },
      "execution_count": null,
      "outputs": []
    },
    {
      "cell_type": "code",
      "source": [
        "# Verificando a liguagem detectada pelo modelo\n",
        "result['language']"
      ],
      "metadata": {
        "id": "nSi3Ce9RDFH8"
      },
      "execution_count": null,
      "outputs": []
    },
    {
      "cell_type": "code",
      "source": [
        "# Imprimindo a transcrição\n",
        "for segment in result['segments']:\n",
        "  print('-', segment['text'])"
      ],
      "metadata": {
        "id": "lG898RtKDUx0"
      },
      "execution_count": null,
      "outputs": []
    },
    {
      "cell_type": "markdown",
      "source": [
        "\n",
        "\n",
        "---\n",
        "\n",
        "\n",
        "\n",
        "---\n",
        "\n"
      ],
      "metadata": {
        "id": "oxeYyfO4Hwic"
      }
    }
  ]
}